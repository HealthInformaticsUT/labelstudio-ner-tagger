{
 "cells": [
  {
   "cell_type": "code",
   "execution_count": 38,
   "metadata": {
    "collapsed": true
   },
   "outputs": [],
   "source": [
    "import sys\n",
    "sys.path.append(\"../\")"
   ]
  },
  {
   "cell_type": "code",
   "execution_count": 13,
   "outputs": [],
   "source": [
    "from estnltk_patches.taggers.dict_taggers.taggers.substring_tagger import SubstringTagger\n",
    "from estnltk_patches.taggers.dict_taggers.extraction_rules.ruleset import Ruleset\n",
    "from estnltk_patches.taggers.dict_taggers.extraction_rules.static_extraction_rule import StaticExtractionRule\n",
    "from estnltk_patches.taggers.dict_taggers.extraction_rules.dynamic_extraction_rule import DynamicExtractionRule\n",
    "from estnltk import Text, Layer, Span\n",
    "\n",
    "import json"
   ],
   "metadata": {
    "collapsed": false,
    "pycharm": {
     "name": "#%%\n"
    }
   }
  },
  {
   "cell_type": "code",
   "execution_count": 39,
   "outputs": [],
   "source": [
    "id = 0\n",
    "\n",
    "def layer_to_dict(layer: Layer):\n",
    "    return [\n",
    "        {\n",
    "            'id': id,\n",
    "            'from_name': 'label',\n",
    "            'to_name': 'text',\n",
    "            'type': 'labels',\n",
    "            'value':\n",
    "        {'start': span.start,\n",
    "         'end': span.end,\n",
    "         'text': span.text,\n",
    "         'labels': ['Prediction'],\n",
    "         **dict(span.annotations[0])\n",
    "        }\n",
    "        }\n",
    "        for span in layer\n",
    "    ]"
   ],
   "metadata": {
    "collapsed": false,
    "pycharm": {
     "name": "#%%\n"
    }
   }
  },
  {
   "cell_type": "code",
   "execution_count": 49,
   "outputs": [],
   "source": [
    "texts = []\n",
    "texts.append('Koer tuletas omanikule meelde, et uus kass, mille peremees võtab, ei tohi olla ilusam kui vana')\n",
    "texts.append('Kolm kassi ja üks koer jooksevad loomaaias koos ringi, kass arvab, et ta on väledam kui koer')\n",
    "texts.append('Kriimsilm karuott ja rebane, siilipoiss ja jänes karvane, hüppavad üheskoos, üksmeelses tantsuhoos, karulaane jenkat')"
   ],
   "metadata": {
    "collapsed": false,
    "pycharm": {
     "name": "#%%\n"
    }
   }
  },
  {
   "cell_type": "code",
   "execution_count": 56,
   "outputs": [
    {
     "name": "stdout",
     "output_type": "stream",
     "text": [
      "0 4 Koer\n",
      "38 42 kass\n",
      "{'data': {'text': 'Koer tuletas omanikule meelde, et uus kass, mille peremees võtab, ei tohi olla ilusam kui vana'}, 'annotations': [{'model_version': 'one', 'result': [{'id': 0, 'from_name': 'label', 'to_name': 'text', 'type': 'labels', 'value': {'start': 0, 'end': 4, 'text': 'Koer', 'labels': ['Prediction']}}, {'id': 0, 'from_name': 'label', 'to_name': 'text', 'type': 'labels', 'value': {'start': 38, 'end': 42, 'text': 'kass', 'labels': ['Prediction']}}]}]}\n",
      "5 9 kass\n",
      "18 22 koer\n",
      "55 59 kass\n",
      "88 92 koer\n",
      "{'data': {'text': 'Kolm kassi ja üks koer jooksevad loomaaias koos ringi, kass arvab, et ta on väledam kui koer'}, 'annotations': [{'model_version': 'one', 'result': [{'id': 0, 'from_name': 'label', 'to_name': 'text', 'type': 'labels', 'value': {'start': 5, 'end': 9, 'text': 'kass', 'labels': ['Prediction']}}, {'id': 0, 'from_name': 'label', 'to_name': 'text', 'type': 'labels', 'value': {'start': 18, 'end': 22, 'text': 'koer', 'labels': ['Prediction']}}, {'id': 0, 'from_name': 'label', 'to_name': 'text', 'type': 'labels', 'value': {'start': 55, 'end': 59, 'text': 'kass', 'labels': ['Prediction']}}, {'id': 0, 'from_name': 'label', 'to_name': 'text', 'type': 'labels', 'value': {'start': 88, 'end': 92, 'text': 'koer', 'labels': ['Prediction']}}]}]}\n",
      "{'data': {'text': 'Kriimsilm karuott ja rebane, siilipoiss ja jänes karvane, hüppavad üheskoos, üksmeelses tantsuhoos, karulaane jenkat'}, 'annotations': [{'model_version': 'one', 'result': []}]}\n"
     ]
    }
   ],
   "source": [
    "labelstudio_json = []\n",
    "\n",
    "rules = Ruleset([\n",
    "    StaticExtractionRule('kass'),\n",
    "    StaticExtractionRule('koer')\n",
    "])\n",
    "\n",
    "tagger = SubstringTagger(rules, ignore_case=True)\n",
    "\n",
    "for sentence in texts:\n",
    "    text = Text(sentence)\n",
    "    tagger(text)\n",
    "\n",
    "\n",
    "for sentence in texts:\n",
    "    text = Text(sentence)\n",
    "    tagger(text)\n",
    "\n",
    "    for span in text.terms:\n",
    "        print(span.start, span.end, span.text)\n",
    "\n",
    "\n",
    "    data = {\n",
    "        'data':\n",
    "             {'text': sentence},\n",
    "        'annotations':\n",
    "        [{'model_version': 'one',\n",
    "          'result':\n",
    "              [i for i in layer_to_dict(text.terms)]\n",
    "          }]\n",
    "            }\n",
    "    print(data)\n",
    "\n",
    "    labelstudio_json.append(data)\n",
    "\n",
    "# with open('import_data.json', 'w') as f:\n",
    "#     json.dump(labelstudio_json, f, ensure_ascii=False)\n"
   ],
   "metadata": {
    "collapsed": false,
    "pycharm": {
     "name": "#%%\n"
    }
   }
  }
 ],
 "metadata": {
  "kernelspec": {
   "display_name": "Python 3",
   "language": "python",
   "name": "python3"
  },
  "language_info": {
   "codemirror_mode": {
    "name": "ipython",
    "version": 2
   },
   "file_extension": ".py",
   "mimetype": "text/x-python",
   "name": "python",
   "nbconvert_exporter": "python",
   "pygments_lexer": "ipython2",
   "version": "2.7.6"
  }
 },
 "nbformat": 4,
 "nbformat_minor": 0
}
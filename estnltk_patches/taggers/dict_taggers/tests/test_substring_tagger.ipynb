{
 "cells": [
  {
   "cell_type": "code",
   "execution_count": 2,
   "id": "861e5656",
   "metadata": {},
   "outputs": [],
   "source": [
    "import sys\n",
    "sys.path.append(\"../../../../../\")"
   ]
  },
  {
   "cell_type": "code",
   "execution_count": 5,
   "id": "83d1eec6",
   "metadata": {},
   "outputs": [],
   "source": [
    "from estnltk_patches.taggers.dict_taggers.taggers.substring_tagger import SubstringTagger\n",
    "from estnltk_patches.taggers.dict_taggers.extraction_rules.ruleset import Ruleset\n",
    "from estnltk_patches.taggers.dict_taggers.extraction_rules.static_extraction_rule import StaticExtractionRule\n",
    "from estnltk_patches.taggers.dict_taggers.extraction_rules.dynamic_extraction_rule import DynamicExtractionRule\n",
    "from estnltk import Text, Layer, Span"
   ]
  },
  {
   "cell_type": "code",
   "execution_count": 6,
   "id": "0808cab4",
   "metadata": {},
   "outputs": [],
   "source": [
    "def layer_to_dict(layer: Layer):\n",
    "    return [\n",
    "        {'start': span.start, \n",
    "         'end': span.end, \n",
    "         'text': span.text, \n",
    "         **dict(span.annotations[0])\n",
    "        } for span in layer\n",
    "    ] "
   ]
  },
  {
   "cell_type": "markdown",
   "id": "ed0a1a9a",
   "metadata": {},
   "source": [
    "### I. Test matching without separators "
   ]
  },
  {
   "cell_type": "code",
   "execution_count": 10,
   "id": "7dc107fc",
   "metadata": {},
   "outputs": [
    {
     "name": "stdout",
     "output_type": "stream",
     "text": [
      "[{'start': 0, 'end': 5, 'text': 'first'}, {'start': 13, 'end': 17, 'text': 'last'}]\n"
     ]
    }
   ],
   "source": [
    "rules = Ruleset([\n",
    "    StaticExtractionRule('first'),\n",
    "    StaticExtractionRule('firs'),\n",
    "    StaticExtractionRule('irst'),\n",
    "    StaticExtractionRule('last')\n",
    "])\n",
    "\n",
    "text = Text('first second last')\n",
    "tagger = SubstringTagger(rules)\n",
    "tagger(text)\n",
    "\n",
    "expected_output = [\n",
    "    {'start': 0, 'end': 5, 'text': 'first'},\n",
    "    {'start': 13, 'end': 17, 'text': 'last'}]\n",
    "\n",
    "print(layer_to_dict(text.terms))\n",
    "\n",
    "assert layer_to_dict(text.terms) == expected_output, \"Maximal matches must be returned\""
   ]
  },
  {
   "cell_type": "code",
   "execution_count": null,
   "id": "5d280b93",
   "metadata": {},
   "outputs": [],
   "source": [
    "rules = Ruleset([\n",
    "    StaticExtractionRule('First'),\n",
    "    StaticExtractionRule('firs'),\n",
    "    StaticExtractionRule('irst'),\n",
    "    StaticExtractionRule('LAST')\n",
    "])\n",
    "\n",
    "text = Text('first second last')\n",
    "tagger = SubstringTagger(rules, ignore_case=True)\n",
    "tagger(text)\n",
    "\n",
    "expected_output = [\n",
    "    {'start': 0, 'end': 5, 'text': 'first'},\n",
    "    {'start': 13, 'end': 17, 'text': 'last'}]\n",
    "\n",
    "assert layer_to_dict(text.terms) == expected_output, \"Maximal matches must be returned\""
   ]
  },
  {
   "cell_type": "markdown",
   "id": "24571edb",
   "metadata": {},
   "source": [
    "### II. Test the effect of separators"
   ]
  },
  {
   "cell_type": "code",
   "execution_count": null,
   "id": "96135595",
   "metadata": {},
   "outputs": [],
   "source": [
    "rules = Ruleset([StaticExtractionRule('match')])\n",
    "\n",
    "text = Text('match|match| match| match| match |match')\n",
    "separators = '|'\n",
    "tagger = SubstringTagger(rules, token_separators=separators)\n",
    "tagger(text)\n",
    "\n",
    "expected_output = [\n",
    "    {'start': 0, 'end': 5, 'text': 'match'},\n",
    "    {'start': 6, 'end': 11, 'text': 'match'},\n",
    "    {'start': 34, 'end': 39, 'text': 'match'}]\n",
    "assert layer_to_dict(text.terms) == expected_output, \"Separators are not correctly handled\""
   ]
  },
  {
   "cell_type": "code",
   "execution_count": null,
   "id": "9c017180",
   "metadata": {},
   "outputs": [],
   "source": [
    "rules = Ruleset([StaticExtractionRule('match')])\n",
    "text = Text('match match, :match, match')\n",
    "separators = ' , :'\n",
    "tagger = SubstringTagger(rules, token_separators=separators)\n",
    "tagger(text)\n",
    "\n",
    "expected_output = [\n",
    "    {'start': 0, 'end': 5, 'text': 'match'},\n",
    "    {'start': 6, 'end': 11, 'text': 'match'},\n",
    "    {'start': 14, 'end': 19, 'text': 'match'},\n",
    "    {'start': 21, 'end': 26, 'text': 'match'}]\n",
    "assert layer_to_dict(text.terms) == expected_output, \"Multiple separators do not work\""
   ]
  },
  {
   "cell_type": "markdown",
   "id": "e57eb31a",
   "metadata": {},
   "source": [
    "### III. Test annotations"
   ]
  },
  {
   "cell_type": "code",
   "execution_count": null,
   "id": "bee236bf",
   "metadata": {},
   "outputs": [],
   "source": [
    "rules = Ruleset([\n",
    "    StaticExtractionRule('first', {'a': 1, 'b': 1}),\n",
    "    StaticExtractionRule('second', {'b': 2, 'a': 3}),\n",
    "    StaticExtractionRule('last', {'a': 3, 'b': 5})])\n",
    "text = Text('first second last')\n",
    "tagger = SubstringTagger(rules, output_attributes = ['a', 'b'])\n",
    "tagger(text)\n",
    "\n",
    "expected_outcome = [\n",
    "    {'start': 0, 'end': 5, 'text': 'first', 'a': 1, 'b': 1},\n",
    "    {'start': 6, 'end': 12, 'text': 'second', 'b': 2, 'a': 3},\n",
    "    {'start': 13, 'end': 17, 'text': 'last', 'a': 3, 'b': 5 }]\n",
    "assert layer_to_dict(text.terms) == expected_outcome, \"Annotations do not work\""
   ]
  },
  {
   "cell_type": "markdown",
   "id": "67a57e76",
   "metadata": {},
   "source": [
    "### IV. Test global decorator"
   ]
  },
  {
   "cell_type": "code",
   "execution_count": null,
   "id": "42b99fde",
   "metadata": {},
   "outputs": [],
   "source": [
    "rules = Ruleset([\n",
    "    StaticExtractionRule('first'),\n",
    "    StaticExtractionRule('second'),\n",
    "    StaticExtractionRule('third'),\n",
    "    StaticExtractionRule('fourth'),\n",
    "    StaticExtractionRule('last')\n",
    "])\n",
    "\n",
    "def decorator(text, span):\n",
    "    if span.text == 'first':\n",
    "        return {'value': 1}\n",
    "    elif span.text == 'second':\n",
    "        return {'value': 2}\n",
    "    elif span.text == 'third':\n",
    "        return {'value': 3}\n",
    "    elif span.text == 'fourth':\n",
    "        return {'value': 4}\n",
    "    \n",
    "    return None\n",
    "\n",
    "text = Text('first, second, third and last')\n",
    "tagger = SubstringTagger(rules, output_attributes = ['value'], global_decorator=decorator)    \n",
    "tagger(text)\n",
    "\n",
    "expected_outcome = [\n",
    "    {'start': 0, 'end': 5, 'text': 'first', 'value': 1},\n",
    "    {'start': 7, 'end': 13, 'text': 'second', 'value': 2},\n",
    "    {'start': 15, 'end': 20, 'text': 'third', 'value': 3}]\n",
    "assert layer_to_dict(text.terms) == expected_outcome, \"Global decorator does not work\""
   ]
  },
  {
   "cell_type": "code",
   "execution_count": null,
   "id": "39a2f955",
   "metadata": {},
   "outputs": [],
   "source": [
    "def text_analyzer(text, span):\n",
    "    layer = span.layer\n",
    "    value = -1\n",
    "    for prev in layer:\n",
    "        if prev == span:\n",
    "            break\n",
    "        value = max(value, prev['value'])\n",
    "    \n",
    "    return {'value': value + 1}\n",
    "\n",
    "\n",
    "def decorator(text, span):\n",
    "    if span.text == 'first':\n",
    "        return {'value': 1}\n",
    "    elif span.text == 'second':\n",
    "        return {'value': 2}\n",
    "    elif span.text == 'third':\n",
    "        return {'value': 3}\n",
    "    elif span.text == 'fourth':\n",
    "        return {'value': 4}\n",
    "    \n",
    "    return {'value': None}\n",
    "    \n",
    "rules = Ruleset([\n",
    "    StaticExtractionRule('first'),\n",
    "    StaticExtractionRule('second'),\n",
    "    StaticExtractionRule('third'),\n",
    "    StaticExtractionRule('fourth'),\n",
    "    DynamicExtractionRule('last', decorator=text_analyzer)\n",
    "])\n",
    "\n",
    "text = Text('first, second, third and last')\n",
    "tagger = SubstringTagger(rules, output_attributes = ['value'], global_decorator=decorator)    \n",
    "tagger(text)\n",
    "\n",
    "expected_outcome = [\n",
    "    {'start': 0, 'end': 5, 'text': 'first', 'value': 1},\n",
    "    {'start': 7, 'end': 13, 'text': 'second', 'value': 2},\n",
    "    {'start': 15, 'end': 20, 'text': 'third', 'value': 3},\n",
    "    {'start': 25, 'end': 29, 'text': 'last', 'value': 4}]\n",
    "assert layer_to_dict(text.terms) == expected_outcome, \"Dynamic decorator does not work\""
   ]
  },
  {
   "cell_type": "markdown",
   "id": "25fd5d6c",
   "metadata": {},
   "source": [
    "## V. Test minimal and maximal matching"
   ]
  },
  {
   "cell_type": "code",
   "execution_count": null,
   "id": "314d2518",
   "metadata": {},
   "outputs": [],
   "source": [
    "rules = Ruleset([\n",
    "    StaticExtractionRule('abcd'),\n",
    "    StaticExtractionRule('abc'),\n",
    "    StaticExtractionRule('bc'),\n",
    "    StaticExtractionRule('bcd'),\n",
    "    StaticExtractionRule('bcde'),\n",
    "    StaticExtractionRule('f'),\n",
    "    StaticExtractionRule('ef')\n",
    "])\n",
    "\n",
    "text = Text('abcdea--efg')\n",
    "tagger = SubstringTagger(rules, output_attributes=[], conflict_resolver='KEEP_MINIMAL')\n",
    "tagger(text)\n",
    "\n",
    "expected_outcome=[\n",
    "    {'start': 1, 'end': 3, 'text': 'bc'},\n",
    "    {'start': 9, 'end': 10, 'text': 'f'}]\n",
    "assert layer_to_dict(text.terms) == expected_outcome, \"Minimal matching does not work\""
   ]
  },
  {
   "cell_type": "code",
   "execution_count": null,
   "id": "a54c0b78",
   "metadata": {},
   "outputs": [],
   "source": [
    "rules = Ruleset([\n",
    "    StaticExtractionRule('abcd'),\n",
    "    StaticExtractionRule('abc'),\n",
    "    StaticExtractionRule('bc'),\n",
    "    StaticExtractionRule('bcd'),\n",
    "    StaticExtractionRule('bcde'),\n",
    "    StaticExtractionRule('f'),\n",
    "    StaticExtractionRule('ef')\n",
    "])\n",
    "\n",
    "text = Text('abcdea--efg')\n",
    "tagger = SubstringTagger(rules, output_attributes=[], conflict_resolver='KEEP_MAXIMAL')\n",
    "tagger(text)\n",
    "\n",
    "expected_outcome = [\n",
    "    {'start': 0, 'end': 4, 'text': 'abcd'},\n",
    "    {'start': 1, 'end': 5, 'text': 'bcde'},\n",
    "    {'start': 8, 'end': 10, 'text': 'ef'}]\n",
    "\n",
    "assert layer_to_dict(text.terms) == expected_outcome, \"Maximal matching does not work\""
   ]
  },
  {
   "cell_type": "code",
   "execution_count": null,
   "id": "4cd0a19e",
   "metadata": {},
   "outputs": [],
   "source": [
    "rules = Ruleset([\n",
    "    StaticExtractionRule('abcd'),\n",
    "    StaticExtractionRule('abc'),\n",
    "    StaticExtractionRule('bc'),\n",
    "    StaticExtractionRule('bcd'),\n",
    "    StaticExtractionRule('bcde'),\n",
    "    StaticExtractionRule('f'),\n",
    "    StaticExtractionRule('ef')\n",
    "])\n",
    "\n",
    "text = Text('abcdea--efg')\n",
    "tagger = SubstringTagger(rules, output_attributes=[], conflict_resolver='KEEP_ALL')\n",
    "tagger(text)\n",
    "\n",
    "expected_outcome = [\n",
    "    {'start': 0, 'end': 3, 'text': 'abc'},\n",
    "    {'start': 0, 'end': 4, 'text': 'abcd'},\n",
    "    {'start': 1, 'end': 3, 'text': 'bc'},\n",
    "    {'start': 1, 'end': 4, 'text': 'bcd'},\n",
    "    {'start': 1, 'end': 5, 'text': 'bcde'},\n",
    "    {'start': 8, 'end': 10, 'text': 'ef'},\n",
    "    {'start': 9, 'end': 10, 'text': 'f'}]\n",
    "\n",
    "assert layer_to_dict(text.terms) == expected_outcome, \"All matches does not work\""
   ]
  }
 ],
 "metadata": {
  "kernelspec": {
   "display_name": "Python 3",
   "language": "python",
   "name": "python3"
  },
  "language_info": {
   "codemirror_mode": {
    "name": "ipython",
    "version": 3
   },
   "file_extension": ".py",
   "mimetype": "text/x-python",
   "name": "python",
   "nbconvert_exporter": "python",
   "pygments_lexer": "ipython3",
   "version": "3.8.10"
  }
 },
 "nbformat": 4,
 "nbformat_minor": 5
}
{
 "cells": [
  {
   "cell_type": "code",
   "execution_count": 3,
   "metadata": {
    "collapsed": true
   },
   "outputs": [],
   "source": [
    "from transformers import AutoTokenizer, pipeline, BertForTokenClassification\n",
    "model_path = '../../../medbert_models/token_classifier_model'\n",
    "\n",
    "tokenizer_args = {\n",
    "    \"lowercase\": False\n",
    "}\n",
    "tokenizer = AutoTokenizer.from_pretrained(model_path, **tokenizer_args)"
   ]
  },
  {
   "cell_type": "code",
   "execution_count": 2,
   "outputs": [
    {
     "data": {
      "text/plain": "['mu',\n '##ist',\n '##se',\n 'ise',\n '##seis',\n '##vuse',\n 'ajal',\n 'avaldus',\n 'eesti',\n 'h',\n '##oi',\n '##mud',\n '##e',\n 'vaimne',\n 'loo',\n '##min',\n '##g',\n 'mitmes',\n '##ugu',\n '##stes',\n 'rahva',\n '##luu',\n '##le',\n 'vormid',\n '##es',\n '.',\n '120',\n '##8',\n '–',\n '27',\n 'sa',\n '##ks',\n '##a',\n 'ord',\n '##uru',\n '##ut',\n '##lite',\n 'ja',\n 'ta',\n '##an',\n '##laste',\n 'vastu',\n 'so',\n '##di',\n '##nud',\n 'eest',\n '##lased',\n 'al',\n '##ista',\n '##ti',\n 'ja',\n 'suru',\n '##ti',\n 'fe',\n '##od',\n '##aali',\n '##kk',\n '##esse',\n '.',\n 'sel',\n 'viisil',\n 'kujunenud',\n 'seisus',\n '##liku',\n '##s',\n 'uh',\n '##is',\n '##konnas',\n 'moodusta',\n '##sid',\n 'eest',\n '##lased',\n 'ko',\n '##ige',\n 'madalama',\n 'seisus',\n '##e',\n '–',\n 'talu',\n '##poeg',\n '##konna',\n '.',\n 'see',\n '##to',\n '##ttu',\n 'oli',\n 'neil',\n 'raske',\n 'omandada',\n 'har',\n '##id',\n '##ust',\n 'ning',\n 'eesti',\n '##keel',\n '##se',\n 'kirjas',\n '##on',\n '##a',\n 'alg',\n '##ata',\n '##mine',\n 'ja',\n 'e',\n '##de',\n '##ndamine',\n 'ja',\n '##i',\n '19',\n '.',\n 'sa',\n '##ja',\n '##ndi',\n '##ni',\n 'vo',\n '##ora',\n '##st',\n 'rah',\n '##vuse',\n '##st',\n '(',\n 'peamiselt']"
     },
     "execution_count": 2,
     "metadata": {},
     "output_type": "execute_result"
    }
   ],
   "source": [
    "strs = \"Muistse iseseisvuse ajal avaldus Eesti hõimude vaimne looming mitmesugustes rahvaluule vormides. 1208–27 Saksa ordurüütlite ja taanlaste vastu sõdinud eestlased alistati ja suruti feodaalikkesse. Sel viisil kujunenud seisuslikus ühiskonnas moodustasid eestlased kõige madalama seisuse – talupoegkonna. Seetõttu oli neil raske omandada haridust ning eestikeelse kirjasõna algatamine ja edendamine jäi 19. sajandini võõrast rahvusest (peamiselt \"\n",
    "tokenizer.tokenize(strs)"
   ],
   "metadata": {
    "collapsed": false,
    "pycharm": {
     "name": "#%%\n"
    }
   }
  },
  {
   "cell_type": "code",
   "execution_count": null,
   "outputs": [],
   "source": [
    "model = BertForTokenClassification.from_pretrained(model_path)\n",
    "pipeline = pipeline(\"ner\", model=model, tokenizer=tokenizer)"
   ],
   "metadata": {
    "collapsed": false,
    "pycharm": {
     "name": "#%%\n"
    }
   }
  }
 ],
 "metadata": {
  "kernelspec": {
   "display_name": "Python 3",
   "language": "python",
   "name": "python3"
  },
  "language_info": {
   "codemirror_mode": {
    "name": "ipython",
    "version": 2
   },
   "file_extension": ".py",
   "mimetype": "text/x-python",
   "name": "python",
   "nbconvert_exporter": "python",
   "pygments_lexer": "ipython2",
   "version": "2.7.6"
  }
 },
 "nbformat": 4,
 "nbformat_minor": 0
}
{
 "cells": [
  {
   "cell_type": "code",
   "execution_count": 2,
   "metadata": {
    "collapsed": true
   },
   "outputs": [],
   "source": [
    "import numpy as np\n",
    "import pandas as pd\n",
    "\n",
    "from transformers import AutoTokenizer, BertForTokenClassification, logging\n",
    "from transformers import pipeline\n",
    "from estnltk import Text, Layer, Span\n",
    "\n",
    "from ner_tagger import BertNerTagger"
   ]
  },
  {
   "cell_type": "code",
   "execution_count": 3,
   "outputs": [],
   "source": [
    "bert_tagger = BertNerTagger()"
   ],
   "metadata": {
    "collapsed": false,
    "pycharm": {
     "name": "#%%\n"
    }
   }
  },
  {
   "cell_type": "code",
   "execution_count": 4,
   "outputs": [
    {
     "name": "stderr",
     "output_type": "stream",
     "text": [
      "Asking to truncate to max_length but no maximum length is provided and the model has no predefined maximum length. Default to no truncation.\n"
     ]
    },
    {
     "data": {
      "text/plain": "Text(text='Patsiendil esineb krooniline peavalu, võtab selle vastu 2 tbl. Duraxel päevas')",
      "text/html": "<table border=\"1\" class=\"dataframe\">\n  <thead>\n    <tr style=\"text-align: right;\">\n      <th>text</th>\n    </tr>\n  </thead>\n  <tbody>\n    <tr>\n      <td><div align = \"left\">Patsiendil esineb krooniline peavalu, võtab selle vastu 2 tbl. Duraxel päevas</div></td>\n    </tr>\n  </tbody>\n</table>\n<table border=\"1\" class=\"dataframe\">\n  <thead>\n    <tr style=\"text-align: right;\">\n      <th>layer name</th>\n      <th>attributes</th>\n      <th>parent</th>\n      <th>enveloping</th>\n      <th>ambiguous</th>\n      <th>span count</th>\n    </tr>\n  </thead>\n  <tbody>\n    <tr>\n      <td>ner</td>\n      <td>grammar_symbol, value</td>\n      <td>None</td>\n      <td>None</td>\n      <td>False</td>\n      <td>2</td>\n    </tr>\n  </tbody>\n</table>"
     },
     "execution_count": 4,
     "metadata": {},
     "output_type": "execute_result"
    }
   ],
   "source": [
    "text = Text('Patsiendil esineb krooniline peavalu, võtab selle vastu 2 tbl. Duraxel päevas')\n",
    "bert_tagger(text)"
   ],
   "metadata": {
    "collapsed": false,
    "pycharm": {
     "name": "#%%\n"
    }
   }
  },
  {
   "cell_type": "code",
   "execution_count": 9,
   "outputs": [
    {
     "name": "stdout",
     "output_type": "stream",
     "text": [
      "layers: Layer(name='ner', attributes=('grammar_symbol', 'value'), spans=SL[Span('peavalu', [{'grammar_symbol': 'B-SYMP', 'value': 'peavalu'}]),\n",
      "Span('Dur', [{'grammar_symbol': 'B-DRUG', 'value': 'dur'}])])\n",
      "{'id': 'IU1TaJ6o1o', 'from_name': 'self.from_name', 'to_name': 'self.to_name', 'type': 'labels', 'value': {'start': 29, 'end': 36, 'text': 'peavalu', 'labels': ['B-SYMP']}}\n",
      "layers: Layer(name='ner', attributes=('grammar_symbol', 'value'), spans=SL[Span('peavalu', [{'grammar_symbol': 'B-SYMP', 'value': 'peavalu'}]),\n",
      "Span('Dur', [{'grammar_symbol': 'B-DRUG', 'value': 'dur'}])])\n",
      "{'id': 'FW2oHrLFqM', 'from_name': 'self.from_name', 'to_name': 'self.to_name', 'type': 'labels', 'value': {'start': 63, 'end': 66, 'text': 'Dur', 'labels': ['B-DRUG']}}\n"
     ]
    }
   ],
   "source": [
    "import random\n",
    "import string\n",
    "# print(text.list_layers())\n",
    "\n",
    "# for s in text.list_layers():\n",
    "#     for span in s:\n",
    "#         print(span.grammar_symbol, span.start, span.end)\n",
    "\n",
    "for layers in text.list_layers():\n",
    "    for span in layers.spans:\n",
    "        print(\"layers:\", layers)\n",
    "        for annotation in span.annotations:\n",
    "            # print(\"Annotation:\", annotation.__dict__['grammar_symbol'])\n",
    "            # print(\"span:\", annotation.span)\n",
    "            # print(\"start:\", annotation.start)\n",
    "            # print(\"end:\", annotation.end)\n",
    "            # print(\"text:\", annotation.span.text)\n",
    "            print({\n",
    "                'id': ''.join(\n",
    "                    random.SystemRandom().choice(\n",
    "                        string.ascii_uppercase +\n",
    "                        string.ascii_lowercase +\n",
    "                        string.digits\n",
    "                    )\n",
    "                    for _ in\n",
    "                    range(10)),\n",
    "                'from_name': \"self.from_name\",\n",
    "                'to_name': \"self.to_name\",\n",
    "                'type': 'labels',\n",
    "                'value': {\n",
    "                    \"start\": annotation.start,\n",
    "                    \"end\": annotation.end,\n",
    "                    \"text\": annotation.span.text,\n",
    "                    \"labels\": [\n",
    "                        # annotation.__dict__['grammar_symbol'] # nt. \"stages\",\n",
    "                        annotation.__dict__['grammar_symbol'] if layers.name=='ner' else layers.name\n",
    "                    ]\n",
    "                }\n",
    "            })"
   ],
   "metadata": {
    "collapsed": false,
    "pycharm": {
     "name": "#%%\n"
    }
   }
  },
  {
   "cell_type": "code",
   "execution_count": 7,
   "outputs": [
    {
     "name": "stdout",
     "output_type": "stream",
     "text": [
      "Layer(name='ner', attributes=('grammar_symbol', 'value'), spans=SL[Span('peavalu', [{'grammar_symbol': 'B-SYMP', 'value': 'peavalu'}]),\n",
      "Span('Dur', [{'grammar_symbol': 'B-DRUG', 'value': 'dur'}])])\n"
     ]
    }
   ],
   "source": [
    "for layers in text.list_layers():\n",
    "    print(layers)\n",
    "\n"
   ],
   "metadata": {
    "collapsed": false,
    "pycharm": {
     "name": "#%%\n"
    }
   }
  }
 ],
 "metadata": {
  "kernelspec": {
   "display_name": "Python 3",
   "language": "python",
   "name": "python3"
  },
  "language_info": {
   "codemirror_mode": {
    "name": "ipython",
    "version": 2
   },
   "file_extension": ".py",
   "mimetype": "text/x-python",
   "name": "python",
   "nbconvert_exporter": "python",
   "pygments_lexer": "ipython2",
   "version": "2.7.6"
  }
 },
 "nbformat": 4,
 "nbformat_minor": 0
}